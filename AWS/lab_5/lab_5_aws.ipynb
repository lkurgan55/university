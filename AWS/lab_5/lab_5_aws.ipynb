{
 "cells": [
  {
   "cell_type": "code",
   "execution_count": 2,
   "id": "93de490a",
   "metadata": {},
   "outputs": [],
   "source": [
    "import pandas as pd\n",
    "import numpy as np\n",
    "import time\n",
    "import boto3\n",
    "\n",
    "import sagemaker\n",
    "import io\n",
    "\n",
    "from sklearn.model_selection import train_test_split\n",
    "from sklearn import svm\n",
    "from sklearn import metrics\n",
    "from sagemaker.predictor import csv_serializer, json_deserializer"
   ]
  },
  {
   "cell_type": "code",
   "execution_count": 3,
   "id": "590eee73",
   "metadata": {},
   "outputs": [],
   "source": [
    "# setup variables to point to s3\n",
    "filename = 'iris_recordio_train.data'\n",
    "bucket = 'lkurgan'\n",
    "data_dir = 'dataset'\n",
    "dataset_name = 'iris.data'\n",
    "raw_prefix = 'raw'\n",
    "train_prefix = 'train'\n",
    "output_prefix = 'output'\n",
    "train_path = f\"{train_prefix}/{filename}\"\n",
    "s3_train_data = f's3://{bucket}/{train_prefix}'\n",
    "output_location = f's3://{bucket}/{output_prefix}'"
   ]
  },
  {
   "cell_type": "code",
   "execution_count": 4,
   "id": "ade3937b",
   "metadata": {},
   "outputs": [
    {
     "name": "stdout",
     "output_type": "stream",
     "text": [
      "env: DATA_DIR=dataset\n",
      "env: S3_DATA_BUCKET_NAME=lkurgan/raw\n",
      "env: DATASET_NAME=iris.data\n",
      "env: TRAINING_PATH=lkurgan/train\n"
     ]
    }
   ],
   "source": [
    "%env DATA_DIR=$data_dir\n",
    "%env S3_DATA_BUCKET_NAME = $bucket/$raw_prefix\n",
    "%env DATASET_NAME = $dataset_name\n",
    "%env TRAINING_PATH = $bucket/$train_prefix"
   ]
  },
  {
   "cell_type": "code",
   "execution_count": 5,
   "id": "37217623",
   "metadata": {
    "scrolled": true
   },
   "outputs": [
    {
     "name": "stdout",
     "output_type": "stream",
     "text": [
      "download: s3://lkurgan/raw/iris.data to dataset/iris.data      \r\n"
     ]
    }
   ],
   "source": [
    "!aws s3 cp s3://$S3_DATA_BUCKET_NAME/$DATASET_NAME ./$DATA_DIR/"
   ]
  },
  {
   "cell_type": "code",
   "execution_count": 6,
   "id": "2c5976ff",
   "metadata": {},
   "outputs": [
    {
     "data": {
      "text/html": [
       "<div>\n",
       "<style scoped>\n",
       "    .dataframe tbody tr th:only-of-type {\n",
       "        vertical-align: middle;\n",
       "    }\n",
       "\n",
       "    .dataframe tbody tr th {\n",
       "        vertical-align: top;\n",
       "    }\n",
       "\n",
       "    .dataframe thead th {\n",
       "        text-align: right;\n",
       "    }\n",
       "</style>\n",
       "<table border=\"1\" class=\"dataframe\">\n",
       "  <thead>\n",
       "    <tr style=\"text-align: right;\">\n",
       "      <th></th>\n",
       "      <th>sepal_length</th>\n",
       "      <th>sepal_width</th>\n",
       "      <th>petal_length</th>\n",
       "      <th>petal_width</th>\n",
       "      <th>class</th>\n",
       "    </tr>\n",
       "  </thead>\n",
       "  <tbody>\n",
       "    <tr>\n",
       "      <th>0</th>\n",
       "      <td>5.1</td>\n",
       "      <td>3.5</td>\n",
       "      <td>1.4</td>\n",
       "      <td>0.2</td>\n",
       "      <td>1</td>\n",
       "    </tr>\n",
       "    <tr>\n",
       "      <th>1</th>\n",
       "      <td>4.9</td>\n",
       "      <td>3.0</td>\n",
       "      <td>1.4</td>\n",
       "      <td>0.2</td>\n",
       "      <td>1</td>\n",
       "    </tr>\n",
       "    <tr>\n",
       "      <th>2</th>\n",
       "      <td>4.7</td>\n",
       "      <td>3.2</td>\n",
       "      <td>1.3</td>\n",
       "      <td>0.2</td>\n",
       "      <td>1</td>\n",
       "    </tr>\n",
       "    <tr>\n",
       "      <th>3</th>\n",
       "      <td>4.6</td>\n",
       "      <td>3.1</td>\n",
       "      <td>1.5</td>\n",
       "      <td>0.2</td>\n",
       "      <td>1</td>\n",
       "    </tr>\n",
       "    <tr>\n",
       "      <th>4</th>\n",
       "      <td>5.0</td>\n",
       "      <td>3.6</td>\n",
       "      <td>1.4</td>\n",
       "      <td>0.2</td>\n",
       "      <td>1</td>\n",
       "    </tr>\n",
       "  </tbody>\n",
       "</table>\n",
       "</div>"
      ],
      "text/plain": [
       "   sepal_length  sepal_width  petal_length  petal_width  class\n",
       "0           5.1          3.5           1.4          0.2      1\n",
       "1           4.9          3.0           1.4          0.2      1\n",
       "2           4.7          3.2           1.3          0.2      1\n",
       "3           4.6          3.1           1.5          0.2      1\n",
       "4           5.0          3.6           1.4          0.2      1"
      ]
     },
     "execution_count": 6,
     "metadata": {},
     "output_type": "execute_result"
    }
   ],
   "source": [
    "# loading the data\n",
    "columns = ['sepal_length', 'sepal_width', 'petal_length', 'petal_width', 'class']\n",
    "\n",
    "df = pd.read_csv(f\"{data_dir}/iris.data\", header=None, names = columns)\n",
    "df['class'].replace(['Iris-setosa', 'Iris-versicolor', 'Iris-virginica'], [1, 2, 3], inplace=True)\n",
    "df.head()"
   ]
  },
  {
   "cell_type": "code",
   "execution_count": 7,
   "id": "e6d4f0de",
   "metadata": {},
   "outputs": [],
   "source": [
    "# Spliting to train and test\n",
    "x_train, x_test, y_train, y_test = train_test_split(\n",
    "    df[['sepal_length', 'sepal_width', 'petal_length', 'petal_width']],\n",
    "    df['class'], random_state = 5)"
   ]
  },
  {
   "cell_type": "code",
   "execution_count": 8,
   "id": "b1d78fa6",
   "metadata": {},
   "outputs": [
    {
     "name": "stderr",
     "output_type": "stream",
     "text": [
      "/home/ec2-user/anaconda3/envs/python3/lib/python3.6/site-packages/boto3/compat.py:88: PythonDeprecationWarning: Boto3 will no longer support Python 3.6 starting May 30, 2022. To continue receiving service updates, bug fixes, and security updates please upgrade to Python 3.7 or later. More information can be found here: https://aws.amazon.com/blogs/developer/python-support-policy-updates-for-aws-sdks-and-tools/\n",
      "  warnings.warn(warning, PythonDeprecationWarning)\n"
     ]
    }
   ],
   "source": [
    "buf = io.BytesIO()\n",
    "sagemaker.amazon.common.write_numpy_to_dense_tensor(buf, \n",
    "                                                    np.array(x_train).astype('float32'),\n",
    "                                                    np.array(y_train).astype('float32'))\n",
    "buf.seek(0)\n",
    "boto3.resource('s3').Bucket(bucket).Object(f'{train_path}').upload_fileobj(buf)"
   ]
  },
  {
   "cell_type": "code",
   "execution_count": 9,
   "id": "29656f87",
   "metadata": {},
   "outputs": [
    {
     "name": "stderr",
     "output_type": "stream",
     "text": [
      "The method get_image_uri has been renamed in sagemaker>=2.\n",
      "See: https://sagemaker.readthedocs.io/en/stable/v2.html for details.\n",
      "Defaulting to the only supported framework/algorithm version: 1. Ignoring framework/algorithm version: 1.\n",
      "train_instance_count has been renamed in sagemaker>=2.\n",
      "See: https://sagemaker.readthedocs.io/en/stable/v2.html for details.\n",
      "train_instance_type has been renamed in sagemaker>=2.\n",
      "See: https://sagemaker.readthedocs.io/en/stable/v2.html for details.\n"
     ]
    },
    {
     "name": "stdout",
     "output_type": "stream",
     "text": [
      "2022-05-12 17:07:46 Starting - Starting the training job...\n",
      "2022-05-12 17:08:10 Starting - Preparing the instances for trainingProfilerReport-1652375266: InProgress\n",
      "......\n",
      "2022-05-12 17:09:12 Downloading - Downloading input data...\n",
      "2022-05-12 17:09:30 Training - Downloading the training image............\n",
      "2022-05-12 17:11:33 Training - Training image download completed. Training in progress.\u001b[34mDocker entrypoint called with argument(s): train\u001b[0m\n",
      "\u001b[34mRunning default environment configuration script\u001b[0m\n",
      "\u001b[34m[05/12/2022 17:11:35 INFO 140561448105792] Reading default configuration from /opt/amazon/lib/python3.7/site-packages/algorithm/resources/default-conf.json: {'_kvstore': 'dist_async', '_log_level': 'info', '_num_gpus': 'auto', '_num_kv_servers': '1', '_tuning_objective_metric': '', '_faiss_index_nprobe': '5', 'epochs': '1', 'feature_dim': 'auto', 'faiss_index_ivf_nlists': 'auto', 'index_metric': 'L2', 'index_type': 'faiss.Flat', 'mini_batch_size': '5000', '_enable_profiler': 'false'}\u001b[0m\n",
      "\u001b[34m[05/12/2022 17:11:35 INFO 140561448105792] Merging with provided configuration from /opt/ml/input/config/hyperparameters.json: {'feature_dim': '4', 'k': '3', 'predictor_type': 'classifier', 'sample_size': '112'}\u001b[0m\n",
      "\u001b[34m[05/12/2022 17:11:35 INFO 140561448105792] Final configuration: {'_kvstore': 'dist_async', '_log_level': 'info', '_num_gpus': 'auto', '_num_kv_servers': '1', '_tuning_objective_metric': '', '_faiss_index_nprobe': '5', 'epochs': '1', 'feature_dim': '4', 'faiss_index_ivf_nlists': 'auto', 'index_metric': 'L2', 'index_type': 'faiss.Flat', 'mini_batch_size': '5000', '_enable_profiler': 'false', 'k': '3', 'predictor_type': 'classifier', 'sample_size': '112'}\u001b[0m\n",
      "\u001b[34m[05/12/2022 17:11:40 WARNING 140561448105792] Loggers have already been setup.\u001b[0m\n",
      "\u001b[34m[05/12/2022 17:11:40 INFO 140561448105792] Final configuration: {'_kvstore': 'dist_async', '_log_level': 'info', '_num_gpus': 'auto', '_num_kv_servers': '1', '_tuning_objective_metric': '', '_faiss_index_nprobe': '5', 'epochs': '1', 'feature_dim': '4', 'faiss_index_ivf_nlists': 'auto', 'index_metric': 'L2', 'index_type': 'faiss.Flat', 'mini_batch_size': '5000', '_enable_profiler': 'false', 'k': '3', 'predictor_type': 'classifier', 'sample_size': '112'}\u001b[0m\n",
      "\u001b[34m[05/12/2022 17:11:40 WARNING 140561448105792] Loggers have already been setup.\u001b[0m\n",
      "\u001b[34m[05/12/2022 17:11:40 INFO 140561448105792] Launching parameter server for role scheduler\u001b[0m\n",
      "\u001b[34m[05/12/2022 17:11:40 INFO 140561448105792] {'ENVROOT': '/opt/amazon', 'PROTOCOL_BUFFERS_PYTHON_IMPLEMENTATION': 'cpp', 'HOSTNAME': 'ip-10-0-201-212.eu-west-3.compute.internal', 'TRAINING_JOB_NAME': 'iris-job-1652375266', 'NVIDIA_REQUIRE_CUDA': 'cuda>=9.0', 'TRAINING_JOB_ARN': 'arn:aws:sagemaker:eu-west-3:631835917390:training-job/iris-job-1652375266', 'AWS_CONTAINER_CREDENTIALS_RELATIVE_URI': '/v2/credentials/proxy-05efd3ea00301f03e9c963710a3925afb4ff02a404e4b56a026a5a22ceaad6b2-customer', 'CANONICAL_ENVROOT': '/opt/amazon', 'PYTHONUNBUFFERED': 'TRUE', 'NVIDIA_VISIBLE_DEVICES': 'all', 'LD_LIBRARY_PATH': '/opt/amazon/lib/python3.7/site-packages/cv2/../../../../lib:/usr/local/nvidia/lib64:/opt/amazon/lib', 'NVIDIA_DRIVER_CAPABILITIES': 'compute,utility', 'PATH': '/opt/amazon/bin:/usr/local/nvidia/bin:/usr/local/sbin:/usr/local/bin:/usr/sbin:/usr/bin:/sbin:/bin', 'PWD': '/', 'LANG': 'en_US.utf8', 'AWS_REGION': 'eu-west-3', 'SAGEMAKER_METRICS_DIRECTORY': '/opt/ml/output/metrics/sagemaker', 'HOME': '/root', 'SHLVL': '1', 'PROTOCOL_BUFFERS_PYTHON_IMPLEMENTATION_VERSION': '2', 'OMP_NUM_THREADS': '8', 'DMLC_INTERFACE': 'eth0', 'SAGEMAKER_HTTP_PORT': '8080', 'SAGEMAKER_DATA_PATH': '/opt/ml'}\u001b[0m\n",
      "\u001b[34m[05/12/2022 17:11:40 INFO 140561448105792] envs={'ENVROOT': '/opt/amazon', 'PROTOCOL_BUFFERS_PYTHON_IMPLEMENTATION': 'cpp', 'HOSTNAME': 'ip-10-0-201-212.eu-west-3.compute.internal', 'TRAINING_JOB_NAME': 'iris-job-1652375266', 'NVIDIA_REQUIRE_CUDA': 'cuda>=9.0', 'TRAINING_JOB_ARN': 'arn:aws:sagemaker:eu-west-3:631835917390:training-job/iris-job-1652375266', 'AWS_CONTAINER_CREDENTIALS_RELATIVE_URI': '/v2/credentials/proxy-05efd3ea00301f03e9c963710a3925afb4ff02a404e4b56a026a5a22ceaad6b2-customer', 'CANONICAL_ENVROOT': '/opt/amazon', 'PYTHONUNBUFFERED': 'TRUE', 'NVIDIA_VISIBLE_DEVICES': 'all', 'LD_LIBRARY_PATH': '/opt/amazon/lib/python3.7/site-packages/cv2/../../../../lib:/usr/local/nvidia/lib64:/opt/amazon/lib', 'NVIDIA_DRIVER_CAPABILITIES': 'compute,utility', 'PATH': '/opt/amazon/bin:/usr/local/nvidia/bin:/usr/local/sbin:/usr/local/bin:/usr/sbin:/usr/bin:/sbin:/bin', 'PWD': '/', 'LANG': 'en_US.utf8', 'AWS_REGION': 'eu-west-3', 'SAGEMAKER_METRICS_DIRECTORY': '/opt/ml/output/metrics/sagemaker', 'HOME': '/root', 'SHLVL': '1', 'PROTOCOL_BUFFERS_PYTHON_IMPLEMENTATION_VERSION': '2', 'OMP_NUM_THREADS': '8', 'DMLC_INTERFACE': 'eth0', 'SAGEMAKER_HTTP_PORT': '8080', 'SAGEMAKER_DATA_PATH': '/opt/ml', 'DMLC_ROLE': 'scheduler', 'DMLC_PS_ROOT_URI': '10.0.201.212', 'DMLC_PS_ROOT_PORT': '9000', 'DMLC_NUM_SERVER': '1', 'DMLC_NUM_WORKER': '1'}\u001b[0m\n",
      "\u001b[34m[05/12/2022 17:11:40 INFO 140561448105792] Launching parameter server for role server\u001b[0m\n",
      "\u001b[34m[05/12/2022 17:11:40 INFO 140561448105792] {'ENVROOT': '/opt/amazon', 'PROTOCOL_BUFFERS_PYTHON_IMPLEMENTATION': 'cpp', 'HOSTNAME': 'ip-10-0-201-212.eu-west-3.compute.internal', 'TRAINING_JOB_NAME': 'iris-job-1652375266', 'NVIDIA_REQUIRE_CUDA': 'cuda>=9.0', 'TRAINING_JOB_ARN': 'arn:aws:sagemaker:eu-west-3:631835917390:training-job/iris-job-1652375266', 'AWS_CONTAINER_CREDENTIALS_RELATIVE_URI': '/v2/credentials/proxy-05efd3ea00301f03e9c963710a3925afb4ff02a404e4b56a026a5a22ceaad6b2-customer', 'CANONICAL_ENVROOT': '/opt/amazon', 'PYTHONUNBUFFERED': 'TRUE', 'NVIDIA_VISIBLE_DEVICES': 'all', 'LD_LIBRARY_PATH': '/opt/amazon/lib/python3.7/site-packages/cv2/../../../../lib:/usr/local/nvidia/lib64:/opt/amazon/lib', 'NVIDIA_DRIVER_CAPABILITIES': 'compute,utility', 'PATH': '/opt/amazon/bin:/usr/local/nvidia/bin:/usr/local/sbin:/usr/local/bin:/usr/sbin:/usr/bin:/sbin:/bin', 'PWD': '/', 'LANG': 'en_US.utf8', 'AWS_REGION': 'eu-west-3', 'SAGEMAKER_METRICS_DIRECTORY': '/opt/ml/output/metrics/sagemaker', 'HOME': '/root', 'SHLVL': '1', 'PROTOCOL_BUFFERS_PYTHON_IMPLEMENTATION_VERSION': '2', 'OMP_NUM_THREADS': '8', 'DMLC_INTERFACE': 'eth0', 'SAGEMAKER_HTTP_PORT': '8080', 'SAGEMAKER_DATA_PATH': '/opt/ml'}\u001b[0m\n",
      "\u001b[34m[05/12/2022 17:11:40 INFO 140561448105792] envs={'ENVROOT': '/opt/amazon', 'PROTOCOL_BUFFERS_PYTHON_IMPLEMENTATION': 'cpp', 'HOSTNAME': 'ip-10-0-201-212.eu-west-3.compute.internal', 'TRAINING_JOB_NAME': 'iris-job-1652375266', 'NVIDIA_REQUIRE_CUDA': 'cuda>=9.0', 'TRAINING_JOB_ARN': 'arn:aws:sagemaker:eu-west-3:631835917390:training-job/iris-job-1652375266', 'AWS_CONTAINER_CREDENTIALS_RELATIVE_URI': '/v2/credentials/proxy-05efd3ea00301f03e9c963710a3925afb4ff02a404e4b56a026a5a22ceaad6b2-customer', 'CANONICAL_ENVROOT': '/opt/amazon', 'PYTHONUNBUFFERED': 'TRUE', 'NVIDIA_VISIBLE_DEVICES': 'all', 'LD_LIBRARY_PATH': '/opt/amazon/lib/python3.7/site-packages/cv2/../../../../lib:/usr/local/nvidia/lib64:/opt/amazon/lib', 'NVIDIA_DRIVER_CAPABILITIES': 'compute,utility', 'PATH': '/opt/amazon/bin:/usr/local/nvidia/bin:/usr/local/sbin:/usr/local/bin:/usr/sbin:/usr/bin:/sbin:/bin', 'PWD': '/', 'LANG': 'en_US.utf8', 'AWS_REGION': 'eu-west-3', 'SAGEMAKER_METRICS_DIRECTORY': '/opt/ml/output/metrics/sagemaker', 'HOME': '/root', 'SHLVL': '1', 'PROTOCOL_BUFFERS_PYTHON_IMPLEMENTATION_VERSION': '2', 'OMP_NUM_THREADS': '8', 'DMLC_INTERFACE': 'eth0', 'SAGEMAKER_HTTP_PORT': '8080', 'SAGEMAKER_DATA_PATH': '/opt/ml', 'DMLC_ROLE': 'server', 'DMLC_PS_ROOT_URI': '10.0.201.212', 'DMLC_PS_ROOT_PORT': '9000', 'DMLC_NUM_SERVER': '1', 'DMLC_NUM_WORKER': '1'}\u001b[0m\n",
      "\u001b[34m[05/12/2022 17:11:40 INFO 140561448105792] Environment: {'ENVROOT': '/opt/amazon', 'PROTOCOL_BUFFERS_PYTHON_IMPLEMENTATION': 'cpp', 'HOSTNAME': 'ip-10-0-201-212.eu-west-3.compute.internal', 'TRAINING_JOB_NAME': 'iris-job-1652375266', 'NVIDIA_REQUIRE_CUDA': 'cuda>=9.0', 'TRAINING_JOB_ARN': 'arn:aws:sagemaker:eu-west-3:631835917390:training-job/iris-job-1652375266', 'AWS_CONTAINER_CREDENTIALS_RELATIVE_URI': '/v2/credentials/proxy-05efd3ea00301f03e9c963710a3925afb4ff02a404e4b56a026a5a22ceaad6b2-customer', 'CANONICAL_ENVROOT': '/opt/amazon', 'PYTHONUNBUFFERED': 'TRUE', 'NVIDIA_VISIBLE_DEVICES': 'all', 'LD_LIBRARY_PATH': '/opt/amazon/lib/python3.7/site-packages/cv2/../../../../lib:/usr/local/nvidia/lib64:/opt/amazon/lib', 'NVIDIA_DRIVER_CAPABILITIES': 'compute,utility', 'PATH': '/opt/amazon/bin:/usr/local/nvidia/bin:/usr/local/sbin:/usr/local/bin:/usr/sbin:/usr/bin:/sbin:/bin', 'PWD': '/', 'LANG': 'en_US.utf8', 'AWS_REGION': 'eu-west-3', 'SAGEMAKER_METRICS_DIRECTORY': '/opt/ml/output/metrics/sagemaker', 'HOME': '/root', 'SHLVL': '1', 'PROTOCOL_BUFFERS_PYTHON_IMPLEMENTATION_VERSION': '2', 'OMP_NUM_THREADS': '8', 'DMLC_INTERFACE': 'eth0', 'SAGEMAKER_HTTP_PORT': '8080', 'SAGEMAKER_DATA_PATH': '/opt/ml', 'DMLC_ROLE': 'worker', 'DMLC_PS_ROOT_URI': '10.0.201.212', 'DMLC_PS_ROOT_PORT': '9000', 'DMLC_NUM_SERVER': '1', 'DMLC_NUM_WORKER': '1'}\u001b[0m\n",
      "\u001b[34mProcess 67 is a shell:scheduler.\u001b[0m\n",
      "\u001b[34mProcess 77 is a shell:server.\u001b[0m\n",
      "\u001b[34mProcess 1 is a worker.\u001b[0m\n",
      "\u001b[34m[05/12/2022 17:11:40 INFO 140561448105792] Using default worker.\u001b[0m\n",
      "\u001b[34m[05/12/2022 17:11:40 INFO 140561448105792] Checkpoint loading and saving are disabled.\u001b[0m\n",
      "\u001b[34m[05/12/2022 17:11:40 INFO 140561448105792] nvidia-smi: took 0.032 seconds to run.\u001b[0m\n",
      "\u001b[34m[05/12/2022 17:11:40 INFO 140561448105792] nvidia-smi identified 0 GPUs.\u001b[0m\n",
      "\u001b[34m[05/12/2022 17:11:40 INFO 140561448105792] Create Store: dist_async\u001b[0m\n",
      "\u001b[34m[17:11:40] ../src/base.cc:47: Please install cuda driver for GPU use.  No cuda driver detected.\u001b[0m\n",
      "\u001b[34m[17:11:41] ../src/base.cc:47: Please install cuda driver for GPU use.  No cuda driver detected.\u001b[0m\n",
      "\u001b[34m[17:11:41] ../src/base.cc:47: Please install cuda driver for GPU use.  No cuda driver detected.\u001b[0m\n",
      "\u001b[34m[05/12/2022 17:11:41 ERROR 140561448105792] nvidia-smi: failed to run (127): b'/bin/sh: nvidia-smi: command not found'/\u001b[0m\n",
      "\u001b[34m[05/12/2022 17:11:41 WARNING 140561448105792] Could not determine free memory in MB for GPU device with ID (0).\u001b[0m\n",
      "\u001b[34m[05/12/2022 17:11:41 INFO 140561448105792] Using per-worker sample size = 112 (Available virtual memory = 64364015616 bytes, GPU free memory = 0 bytes, number of workers = 1). If an out-of-memory error occurs, choose a larger instance type, use dimension reduction, decrease sample_size, and/or decrease mini_batch_size.\u001b[0m\n",
      "\u001b[34m#metrics {\"StartTime\": 1652375501.4971483, \"EndTime\": 1652375501.4971983, \"Dimensions\": {\"Algorithm\": \"AWS/KNN\", \"Host\": \"algo-1\", \"Operation\": \"training\", \"Meta\": \"init_train_data_iter\"}, \"Metrics\": {\"Total Records Seen\": {\"sum\": 0.0, \"count\": 1, \"min\": 0, \"max\": 0}, \"Total Batches Seen\": {\"sum\": 0.0, \"count\": 1, \"min\": 0, \"max\": 0}, \"Max Records Seen Between Resets\": {\"sum\": 0.0, \"count\": 1, \"min\": 0, \"max\": 0}, \"Max Batches Seen Between Resets\": {\"sum\": 0.0, \"count\": 1, \"min\": 0, \"max\": 0}, \"Reset Count\": {\"sum\": 0.0, \"count\": 1, \"min\": 0, \"max\": 0}, \"Number of Records Since Last Reset\": {\"sum\": 0.0, \"count\": 1, \"min\": 0, \"max\": 0}, \"Number of Batches Since Last Reset\": {\"sum\": 0.0, \"count\": 1, \"min\": 0, \"max\": 0}}}\u001b[0m\n",
      "\u001b[34m[2022-05-12 17:11:41.497] [tensorio] [info] epoch_stats={\"data_pipeline\": \"/opt/ml/input/data/train\", \"epoch\": 0, \"duration\": 919, \"num_examples\": 1, \"num_bytes\": 6720}\u001b[0m\n",
      "\u001b[34m[2022-05-12 17:11:41.648] [tensorio] [info] epoch_stats={\"data_pipeline\": \"/opt/ml/input/data/train\", \"epoch\": 1, \"duration\": 150, \"num_examples\": 1, \"num_bytes\": 6720}\u001b[0m\n",
      "\u001b[34m[05/12/2022 17:11:41 INFO 140561448105792] #progress_metric: host=algo-1, completed 100.0 % of epochs\u001b[0m\n",
      "\u001b[34m#metrics {\"StartTime\": 1652375501.497622, \"EndTime\": 1652375501.648561, \"Dimensions\": {\"Algorithm\": \"AWS/KNN\", \"Host\": \"algo-1\", \"Operation\": \"training\", \"epoch\": 0, \"Meta\": \"training_data_iter\"}, \"Metrics\": {\"Total Records Seen\": {\"sum\": 112.0, \"count\": 1, \"min\": 112, \"max\": 112}, \"Total Batches Seen\": {\"sum\": 1.0, \"count\": 1, \"min\": 1, \"max\": 1}, \"Max Records Seen Between Resets\": {\"sum\": 112.0, \"count\": 1, \"min\": 112, \"max\": 112}, \"Max Batches Seen Between Resets\": {\"sum\": 1.0, \"count\": 1, \"min\": 1, \"max\": 1}, \"Reset Count\": {\"sum\": 1.0, \"count\": 1, \"min\": 1, \"max\": 1}, \"Number of Records Since Last Reset\": {\"sum\": 112.0, \"count\": 1, \"min\": 112, \"max\": 112}, \"Number of Batches Since Last Reset\": {\"sum\": 1.0, \"count\": 1, \"min\": 1, \"max\": 1}}}\u001b[0m\n",
      "\u001b[34m[05/12/2022 17:11:41 INFO 140561448105792] #throughput_metric: host=algo-1, train throughput=741.5215331699055 records/second\u001b[0m\n",
      "\u001b[34m[05/12/2022 17:11:41 INFO 140561448105792] Using in-memory reservoir sample from master machine...\u001b[0m\n",
      "\u001b[34m[05/12/2022 17:11:41 INFO 140561448105792] ...Got reservoir sample from algo-1: data=(112, 4), labels=(112,), NaNs=0\u001b[0m\n",
      "\u001b[34m[05/12/2022 17:11:41 INFO 140561448105792] Training index...\u001b[0m\n",
      "\u001b[34m[05/12/2022 17:11:41 INFO 140561448105792] ...Finished training index in 0 second(s)\u001b[0m\n",
      "\u001b[34m[05/12/2022 17:11:41 INFO 140561448105792] Adding data to index...\u001b[0m\n",
      "\u001b[34m[05/12/2022 17:11:41 INFO 140561448105792] ...Finished adding data to index in 0 second(s)\u001b[0m\n",
      "\u001b[34m#metrics {\"StartTime\": 1652375500.5773327, \"EndTime\": 1652375501.6719167, \"Dimensions\": {\"Algorithm\": \"AWS/KNN\", \"Host\": \"algo-1\", \"Operation\": \"training\"}, \"Metrics\": {\"initialize.time\": {\"sum\": 918.39599609375, \"count\": 1, \"min\": 918.39599609375, \"max\": 918.39599609375}, \"epochs\": {\"sum\": 1.0, \"count\": 1, \"min\": 1, \"max\": 1}, \"update.time\": {\"sum\": 150.64764022827148, \"count\": 1, \"min\": 150.64764022827148, \"max\": 150.64764022827148}, \"finalize.time\": {\"sum\": 17.71831512451172, \"count\": 1, \"min\": 17.71831512451172, \"max\": 17.71831512451172}, \"model.serialize.time\": {\"sum\": 5.300998687744141, \"count\": 1, \"min\": 5.300998687744141, \"max\": 5.300998687744141}}}\u001b[0m\n",
      "\u001b[34m[05/12/2022 17:11:41 INFO 140561448105792] Test data is not provided.\u001b[0m\n",
      "\u001b[34m#metrics {\"StartTime\": 1652375501.6719892, \"EndTime\": 1652375501.6726456, \"Dimensions\": {\"Algorithm\": \"AWS/KNN\", \"Host\": \"algo-1\", \"Operation\": \"training\"}, \"Metrics\": {\"setuptime\": {\"sum\": 15.002250671386719, \"count\": 1, \"min\": 15.002250671386719, \"max\": 15.002250671386719}, \"totaltime\": {\"sum\": 1542.4432754516602, \"count\": 1, \"min\": 1542.4432754516602, \"max\": 1542.4432754516602}}}\u001b[0m\n",
      "\n",
      "2022-05-12 17:12:11 Uploading - Uploading generated training model\n",
      "2022-05-12 17:12:11 Completed - Training job completed\n",
      "ProfilerReport-1652375266: NoIssuesFound\n",
      "Training seconds: 162\n",
      "Billable seconds: 162\n"
     ]
    }
   ],
   "source": [
    "container = sagemaker.amazon.amazon_estimator.get_image_uri(boto3.Session().region_name, 'knn')\n",
    "role = sagemaker.get_execution_role()\n",
    "sess = sagemaker.Session()\n",
    "\n",
    "# create knn estimator\n",
    "knn = sagemaker.estimator.Estimator(container,\n",
    "                                    role,\n",
    "                                    train_instance_count=1,\n",
    "                                    train_instance_type='ml.m5.4xlarge',\n",
    "                                    output_path=output_location,\n",
    "                                    sagemaker_session=sess)\n",
    "# set hyperparameters\n",
    "knn.set_hyperparameters(predictor_type='classifier',\n",
    "                           feature_dim=4,\n",
    "                           k=3,\n",
    "                           sample_size=x_train.shape[0])\n",
    "\n",
    "knn.fit({'train': s3_train_data},  job_name=f\"iris-job-{int(time.time())}\")"
   ]
  },
  {
   "cell_type": "code",
   "execution_count": 12,
   "id": "61ea987f",
   "metadata": {
    "scrolled": true
   },
   "outputs": [
    {
     "name": "stdout",
     "output_type": "stream",
     "text": [
      "----------------!"
     ]
    }
   ],
   "source": [
    "# deploy the model\n",
    "knn_predictor = knn.deploy(initial_instance_count=1,\n",
    "                       instance_type='ml.t2.medium',\n",
    "                       endpoint_name=\"iris2-endpoint\")\n",
    "knn_predictor.serializer = csv_serializer\n",
    "knn_predictor.deserializer = json_deserializer"
   ]
  },
  {
   "cell_type": "code",
   "execution_count": 13,
   "id": "72c6bd4a",
   "metadata": {
    "scrolled": true
   },
   "outputs": [
    {
     "name": "stderr",
     "output_type": "stream",
     "text": [
      "The csv_serializer has been renamed in sagemaker>=2.\n",
      "See: https://sagemaker.readthedocs.io/en/stable/v2.html for details.\n",
      "The json_deserializer has been renamed in sagemaker>=2.\n",
      "See: https://sagemaker.readthedocs.io/en/stable/v2.html for details.\n"
     ]
    }
   ],
   "source": [
    "result = knn_predictor.predict(x_test.values)"
   ]
  },
  {
   "cell_type": "code",
   "execution_count": 21,
   "id": "b20990d9",
   "metadata": {},
   "outputs": [
    {
     "ename": "TypeError",
     "evalue": "list indices must be integers or slices, not str",
     "output_type": "error",
     "traceback": [
      "\u001b[0;31m---------------------------------------------------------------------------\u001b[0m",
      "\u001b[0;31mTypeError\u001b[0m                                 Traceback (most recent call last)",
      "\u001b[0;32m<ipython-input-21-8c88d45ed188>\u001b[0m in \u001b[0;36m<module>\u001b[0;34m\u001b[0m\n\u001b[0;32m----> 1\u001b[0;31m \u001b[0mresult\u001b[0m \u001b[0;34m=\u001b[0m \u001b[0;34m[\u001b[0m\u001b[0mx\u001b[0m\u001b[0;34m[\u001b[0m\u001b[0;34m'predicted_label'\u001b[0m\u001b[0;34m]\u001b[0m \u001b[0;32mfor\u001b[0m \u001b[0mx\u001b[0m \u001b[0;32min\u001b[0m \u001b[0mresult\u001b[0m\u001b[0;34m[\u001b[0m\u001b[0;34m\"predictions\"\u001b[0m\u001b[0;34m]\u001b[0m\u001b[0;34m]\u001b[0m\u001b[0;34m\u001b[0m\u001b[0;34m\u001b[0m\u001b[0m\n\u001b[0m",
      "\u001b[0;31mTypeError\u001b[0m: list indices must be integers or slices, not str"
     ]
    }
   ],
   "source": [
    "result = [x['predicted_label'] for x in result[\"predictions\"]]"
   ]
  },
  {
   "cell_type": "code",
   "execution_count": 20,
   "id": "b15f7014",
   "metadata": {},
   "outputs": [
    {
     "name": "stdout",
     "output_type": "stream",
     "text": [
      "Accuracy: 0.9473684210526315\n"
     ]
    }
   ],
   "source": [
    "print(\"Accuracy:\", metrics.accuracy_score(y_test, result))"
   ]
  },
  {
   "cell_type": "code",
   "execution_count": 23,
   "id": "61f28ab7",
   "metadata": {
    "scrolled": false
   },
   "outputs": [
    {
     "name": "stderr",
     "output_type": "stream",
     "text": [
      "The endpoint attribute has been renamed in sagemaker>=2.\n",
      "See: https://sagemaker.readthedocs.io/en/stable/v2.html for details.\n"
     ]
    }
   ],
   "source": [
    "sagemaker.Session().delete_endpoint(knn_predictor.endpoint)"
   ]
  },
  {
   "cell_type": "code",
   "execution_count": null,
   "id": "adf59c0e",
   "metadata": {},
   "outputs": [],
   "source": []
  }
 ],
 "metadata": {
  "kernelspec": {
   "display_name": "conda_python3",
   "language": "python",
   "name": "conda_python3"
  },
  "language_info": {
   "codemirror_mode": {
    "name": "ipython",
    "version": 3
   },
   "file_extension": ".py",
   "mimetype": "text/x-python",
   "name": "python",
   "nbconvert_exporter": "python",
   "pygments_lexer": "ipython3",
   "version": "3.6.13"
  }
 },
 "nbformat": 4,
 "nbformat_minor": 5
}
